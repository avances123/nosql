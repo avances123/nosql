{
 "metadata": {
  "name": "",
  "signature": "sha256:0c9f8be0f7fe255b8db92a10a40235f5616d75372ff150a4cfe38b8b0f63d506"
 },
 "nbformat": 3,
 "nbformat_minor": 0,
 "worksheets": [
  {
   "cells": [
    {
     "cell_type": "markdown",
     "metadata": {},
     "source": [
      "<img src=\"files/mongodb.png\">"
     ]
    },
    {
     "cell_type": "markdown",
     "metadata": {},
     "source": [
      "# Mongo es un almacen de JSON\n",
      "* Mongodb usa colleciones = tablas en RDBMS\n",
      "* Podemos meter cualquier json en cualquier coleccion (schemaless)\n",
      "* La potencia viene en dividir nuestra base de datos en distintos servidores (sharding)\n",
      "* Mongo usa HA usando un cojunto de servidores replicados con los mismos datos (replica sets)\n",
      "\n"
     ]
    },
    {
     "cell_type": "markdown",
     "metadata": {},
     "source": [
      "# Ejemplo con observaciones_eolica\n",
      "\n"
     ]
    },
    {
     "cell_type": "markdown",
     "metadata": {},
     "source": [
      "## Arquitectura de un sistema real\n",
      "Vamos a crear la siguiente arquitectura, dividiremos nuestro dataset en 4 shards (conjunto de replica sets), cada shard estara compuesto de 4 servidores de replica, uno maestro y 3 esclavos.\n",
      "\n",
      "<img src=\"files/sharding.png\">"
     ]
    },
    {
     "cell_type": "markdown",
     "metadata": {},
     "source": [
      "## Como es una fila de observaciones\n",
      "\n",
      "Vamos a transformar nuestra tabla observaciones de la db de eolica a nosql usando mongodb, Cada fila sera un json de este tipo\n",
      "\n",
      "```json\n",
      "{\n",
      "\t\"_id\" : ObjectId(\"539f1bf028d60f5e28c8153f\"),\n",
      "\t\"fecha_obs\" : ISODate(\"2012-11-28T14:20:00Z\"),\n",
      "\t\"codigo_unidad\" : \"HighlN\",\n",
      "\t\"nombre_cliente\" : \"EVERPOWER\",\n",
      "\t\"valid\" : 1,\n",
      "\t\"periodo_acu\" : 0,\n",
      "\t\"valor\" : 40191.6,\n",
      "\t\"tipo_observable\" : \"produccion\"\n",
      "}\n",
      "```\n",
      "\n",
      "Podriamos crear documentos, mas grandes, con la latlon de cada parque en cada observacion, incluso el array de predicciones de cada modelo tambien"
     ]
    },
    {
     "cell_type": "code",
     "collapsed": false,
     "input": [],
     "language": "python",
     "metadata": {},
     "outputs": []
    }
   ],
   "metadata": {}
  }
 ]
}
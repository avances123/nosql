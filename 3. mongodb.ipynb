{
 "metadata": {
  "name": "",
  "signature": "sha256:db6b4427c9188583535031e70d30d9a126757e78c6b5dd8cf94d9a66f2e8f073"
 },
 "nbformat": 3,
 "nbformat_minor": 0,
 "worksheets": [
  {
   "cells": [
    {
     "cell_type": "markdown",
     "metadata": {},
     "source": [
      "<img src=\"files/mongodb.png\">"
     ]
    },
    {
     "cell_type": "code",
     "collapsed": false,
     "input": [],
     "language": "python",
     "metadata": {},
     "outputs": []
    }
   ],
   "metadata": {}
  }
 ]
}
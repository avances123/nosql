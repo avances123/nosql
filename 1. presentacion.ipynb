{
 "metadata": {
  "name": "",
  "signature": "sha256:17168d557a2962efa1cbc63077948c32c93d3a75ce894d5d8c718a76510994fc"
 },
 "nbformat": 3,
 "nbformat_minor": 0,
 "worksheets": [
  {
   "cells": [
    {
     "cell_type": "markdown",
     "metadata": {},
     "source": [
      "# Bases de Datos NOSQL\n"
     ]
    },
    {
     "cell_type": "markdown",
     "metadata": {},
     "source": [
      "## BigData\n",
      "Llamaremos bigdata a un conjunto de datos tan grande que nuestro postgresql no pueda manejar"
     ]
    },
    {
     "cell_type": "markdown",
     "metadata": {},
     "source": [
      "## NOSQL\n",
      "\n",
      "## Escalado horizontal\n",
      "Construidas para dividir nuestro dataset entre varios servidores\n",
      "\n",
      "\n",
      "<img src=\"files/graph2.png\" height=\"42\" width=\"42\">\n",
      "\n",
      "\n",
      "### Rendimiento\n",
      "Tienen mejor rendimiento a costa de menos funcionalidad.\n",
      "\n",
      "\n",
      "<img src=\"files/graph1.png\">"
     ]
    },
    {
     "cell_type": "markdown",
     "metadata": {},
     "source": []
    },
    {
     "cell_type": "code",
     "collapsed": false,
     "input": [],
     "language": "python",
     "metadata": {},
     "outputs": []
    }
   ],
   "metadata": {}
  }
 ]
}
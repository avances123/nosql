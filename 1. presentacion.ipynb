{
 "metadata": {
  "name": "",
  "signature": "sha256:dfca55b1a83759ae0304b88418d9b4d3d813c29b460bac92369839f4aa58e187"
 },
 "nbformat": 3,
 "nbformat_minor": 0,
 "worksheets": [
  {
   "cells": [
    {
     "cell_type": "markdown",
     "metadata": {},
     "source": [
      "# Bases de Datos NOSQL\n"
     ]
    },
    {
     "cell_type": "markdown",
     "metadata": {},
     "source": [
      "## BigData\n",
      "Llamaremos bigdata a un conjunto de datos tan grande que nuestra base de datos no pueda manejar"
     ]
    },
    {
     "cell_type": "markdown",
     "metadata": {},
     "source": [
      "## NOSQL\n",
      "\n",
      "## Escalado horizontal\n",
      "Construidas para dividir nuestro dataset entre varios servidores\n",
      "\n",
      "\n",
      "<img src=\"files/graph2.png\" height=\"400\" width=\"400\">\n",
      "\n",
      "\n",
      "### Rendimiento\n",
      "Tienen mejor rendimiento a costa de menos funcionalidad.\n",
      "\n",
      "\n",
      "<img src=\"files/graph1.png\">"
     ]
    },
    {
     "cell_type": "code",
     "collapsed": false,
     "input": [],
     "language": "python",
     "metadata": {},
     "outputs": []
    }
   ],
   "metadata": {}
  }
 ]
}
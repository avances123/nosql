{
 "metadata": {
  "name": "",
  "signature": "sha256:5005329983a9d47225c26e1d9ed24a0129e6511295b91b78db768a4db5259e7c"
 },
 "nbformat": 3,
 "nbformat_minor": 0,
 "worksheets": [
  {
   "cells": [
    {
     "cell_type": "markdown",
     "metadata": {},
     "source": [
      "# Bases de Datos NOSQL\n"
     ]
    },
    {
     "cell_type": "markdown",
     "metadata": {},
     "source": [
      "## BigData\n",
      "Llamaremos bigdata a un conjunto de datos tan grande que nuestro postgresql no pueda manejar"
     ]
    },
    {
     "cell_type": "markdown",
     "metadata": {},
     "source": [
      "## NOSQL\n",
      "\n",
      "## Escalado horizontal\n",
      "Construidas para dividir nuestro dataset entre varios servidores\n",
      "\n",
      "\n",
      "<img src=\"files/graph2.png\" height=\"400\" width=\"400\">\n",
      "\n",
      "\n",
      "### Rendimiento\n",
      "Tienen mejor rendimiento a costa de menos funcionalidad.\n",
      "\n",
      "\n",
      "<img src=\"files/graph1.png\">"
     ]
    },
    {
     "cell_type": "markdown",
     "metadata": {},
     "source": []
    },
    {
     "cell_type": "code",
     "collapsed": false,
     "input": [],
     "language": "python",
     "metadata": {},
     "outputs": []
    }
   ],
   "metadata": {}
  }
 ]
}
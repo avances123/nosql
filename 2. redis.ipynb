{
 "metadata": {
  "name": "",
  "signature": "sha256:68c86f6f9ab5c5a4e2180604594bf31b1c331b5a696148502a33ac2867cb14b0"
 },
 "nbformat": 3,
 "nbformat_minor": 0,
 "worksheets": [
  {
   "cells": [
    {
     "cell_type": "markdown",
     "metadata": {},
     "source": [
      "<img src=\"files/redis.png\">"
     ]
    },
    {
     "cell_type": "markdown",
     "metadata": {},
     "source": [
      "## El ejemplo mas simple"
     ]
    },
    {
     "cell_type": "code",
     "collapsed": false,
     "input": [
      "import redis\n",
      "servidor = redis.Redis('localhost') \n",
      "print servidor"
     ],
     "language": "python",
     "metadata": {},
     "outputs": [
      {
       "output_type": "stream",
       "stream": "stdout",
       "text": [
        "Redis<ConnectionPool<Connection<host=localhost,port=6379,db=0>>>\n"
       ]
      }
     ],
     "prompt_number": 9
    },
    {
     "cell_type": "code",
     "collapsed": false,
     "input": [
      "servidor.set('una_clave', 'un_valor') \n",
      "valor = servidor.get('una_clave') \n",
      "print valor"
     ],
     "language": "python",
     "metadata": {},
     "outputs": [
      {
       "output_type": "stream",
       "stream": "stdout",
       "text": [
        "un_valor\n"
       ]
      }
     ],
     "prompt_number": 10
    },
    {
     "cell_type": "markdown",
     "metadata": {},
     "source": [
      "## Rendimiento con un ejemplo"
     ]
    },
    {
     "cell_type": "markdown",
     "metadata": {},
     "source": [
      "### Escritura"
     ]
    },
    {
     "cell_type": "code",
     "collapsed": false,
     "input": [
      "from meteo_redis import *\n",
      "\n",
      "server = redis.Redis('localhost',db=1)\n",
      "server.flushdb()\n",
      "\n",
      "while server.dbsize() < 10000:\n",
      "    key = dame_key()\n",
      "    valor = dame_valor()\n",
      "    server.set(key,valor)\n",
      "\n",
      "print \"N\u00famero de claves:valor %d\" % server.dbsize()"
     ],
     "language": "python",
     "metadata": {},
     "outputs": [
      {
       "output_type": "stream",
       "stream": "stdout",
       "text": [
        "N\u00famero de claves:valor 10000\n"
       ]
      }
     ],
     "prompt_number": 11
    },
    {
     "cell_type": "markdown",
     "metadata": {},
     "source": [
      "### Lectura"
     ]
    },
    {
     "cell_type": "code",
     "collapsed": false,
     "input": [
      "from timeit import Timer\n",
      "\n",
      "def dame_valor(key=\"precip_arpege_20111011\"):\n",
      "    server.get(key)\n",
      "        \n",
      "t = Timer(lambda: dame_valor())\n",
      "\n",
      "print \"%f ms\" % (t.timeit(number=1) * 1000) \n",
      "print server.get('precip_arpege_20111011')"
     ],
     "language": "python",
     "metadata": {},
     "outputs": [
      {
       "output_type": "stream",
       "stream": "stdout",
       "text": [
        "0.243902 ms\n",
        "None\n"
       ]
      }
     ],
     "prompt_number": 14
    },
    {
     "cell_type": "markdown",
     "metadata": {},
     "source": [
      "## Persistencia"
     ]
    },
    {
     "cell_type": "code",
     "collapsed": false,
     "input": [
      "server.config_get(pattern='dir') # Directorio de trabajo donde guarda dump.rdb"
     ],
     "language": "python",
     "metadata": {},
     "outputs": [
      {
       "metadata": {},
       "output_type": "pyout",
       "prompt_number": 6,
       "text": [
        "{'dir': '/var/lib/redis'}"
       ]
      }
     ],
     "prompt_number": 6
    },
    {
     "cell_type": "code",
     "collapsed": false,
     "input": [
      "server.bgsave() #asincrono\n",
      "#r_server.save()   #sincrono\n",
      "server.lastsave()"
     ],
     "language": "python",
     "metadata": {},
     "outputs": [
      {
       "metadata": {},
       "output_type": "pyout",
       "prompt_number": 7,
       "text": [
        "datetime.datetime(2014, 6, 18, 10, 3, 26)"
       ]
      }
     ],
     "prompt_number": 7
    },
    {
     "cell_type": "code",
     "collapsed": false,
     "input": [
      "\n"
     ],
     "language": "python",
     "metadata": {},
     "outputs": [],
     "prompt_number": 7
    },
    {
     "cell_type": "code",
     "collapsed": false,
     "input": [],
     "language": "python",
     "metadata": {},
     "outputs": [],
     "prompt_number": 7
    }
   ],
   "metadata": {}
  }
 ]
}
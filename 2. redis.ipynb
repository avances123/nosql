{
 "metadata": {
  "name": "",
  "signature": "sha256:1e2bb71e2f2b8f94e27205d68c6d34bbabb991ac7e54aa9461c85d5ed4b53ce7"
 },
 "nbformat": 3,
 "nbformat_minor": 0,
 "worksheets": [
  {
   "cells": [
    {
     "cell_type": "markdown",
     "metadata": {},
     "source": [
      "<img src=\"files/redis.png\">"
     ]
    },
    {
     "cell_type": "markdown",
     "metadata": {},
     "source": [
      "## El ejemplo mas simple"
     ]
    },
    {
     "cell_type": "code",
     "collapsed": false,
     "input": [
      "import redis\n",
      "servidor = redis.Redis('localhost') \n",
      "print servidor"
     ],
     "language": "python",
     "metadata": {},
     "outputs": [
      {
       "output_type": "stream",
       "stream": "stdout",
       "text": [
        "Redis<ConnectionPool<Connection<host=localhost,port=6379,db=0>>>\n"
       ]
      }
     ],
     "prompt_number": 2
    },
    {
     "cell_type": "code",
     "collapsed": false,
     "input": [
      "servidor.set('una_clave', 'un_valor') \n",
      "valor = servidor.get('una_clave') \n",
      "print valor"
     ],
     "language": "python",
     "metadata": {},
     "outputs": [
      {
       "output_type": "stream",
       "stream": "stdout",
       "text": [
        "un_valor\n"
       ]
      }
     ],
     "prompt_number": 3
    },
    {
     "cell_type": "markdown",
     "metadata": {},
     "source": [
      "## Rendimiento con un ejemplo"
     ]
    },
    {
     "cell_type": "markdown",
     "metadata": {},
     "source": [
      "### Escritura"
     ]
    },
    {
     "cell_type": "code",
     "collapsed": false,
     "input": [
      "from meteo_redis import *\n",
      "\n",
      "server = redis.Redis('localhost',db=1)\n",
      "server.flushdb()\n",
      "\n",
      "while server.dbsize() < 10000:\n",
      "    key = dame_key()\n",
      "    valor = dame_valor()\n",
      "    server.set(key,valor)\n",
      "\n",
      "print \"N\u00famero de claves:valor %d\" % server.dbsize()"
     ],
     "language": "python",
     "metadata": {},
     "outputs": [
      {
       "output_type": "stream",
       "stream": "stdout",
       "text": [
        "N\u00famero de claves:valor 10000\n"
       ]
      }
     ],
     "prompt_number": 13
    },
    {
     "cell_type": "markdown",
     "metadata": {},
     "source": [
      "### Lectura"
     ]
    },
    {
     "cell_type": "code",
     "collapsed": false,
     "input": [
      "from timeit import Timer\n",
      "\n",
      "def dame_valor(key=\"precip_arpege_20111011\"):\n",
      "    server.get(key)\n",
      "        \n",
      "t = Timer(lambda: dame_valor())\n",
      "\n",
      "print \"%f ms\" % (t.timeit(number=1) * 1000) "
     ],
     "language": "python",
     "metadata": {},
     "outputs": [
      {
       "output_type": "stream",
       "stream": "stdout",
       "text": [
        "0.429869 ms\n"
       ]
      }
     ],
     "prompt_number": 14
    },
    {
     "cell_type": "markdown",
     "metadata": {},
     "source": [
      "## Persistencia"
     ]
    },
    {
     "cell_type": "code",
     "collapsed": false,
     "input": [
      "server.config_get(pattern='dir') # Directorio de trabajo donde guarda dump.rdb"
     ],
     "language": "python",
     "metadata": {},
     "outputs": [
      {
       "metadata": {},
       "output_type": "pyout",
       "prompt_number": 16,
       "text": [
        "{'dir': '/var/lib/redis'}"
       ]
      }
     ],
     "prompt_number": 16
    },
    {
     "cell_type": "code",
     "collapsed": false,
     "input": [
      "server.bgsave() #asincrono\n",
      "#r_server.save()   #sincrono\n",
      "server.lastsave()"
     ],
     "language": "python",
     "metadata": {},
     "outputs": [
      {
       "metadata": {},
       "output_type": "pyout",
       "prompt_number": 17,
       "text": [
        "datetime.datetime(2014, 6, 16, 15, 59, 51)"
       ]
      }
     ],
     "prompt_number": 17
    },
    {
     "cell_type": "code",
     "collapsed": false,
     "input": [
      "\n"
     ],
     "language": "python",
     "metadata": {},
     "outputs": []
    },
    {
     "cell_type": "code",
     "collapsed": false,
     "input": [],
     "language": "python",
     "metadata": {},
     "outputs": []
    }
   ],
   "metadata": {}
  }
 ]
}